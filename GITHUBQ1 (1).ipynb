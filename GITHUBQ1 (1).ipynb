{
  "metadata": {
    "kernelspec": {
      "name": "python",
      "display_name": "Python (Pyodide)",
      "language": "python"
    },
    "language_info": {
      "codemirror_mode": {
        "name": "python",
        "version": 3
      },
      "file_extension": ".py",
      "mimetype": "text/x-python",
      "name": "python",
      "nbconvert_exporter": "python",
      "pygments_lexer": "ipython3",
      "version": "3.8"
    }
  },
  "nbformat_minor": 4,
  "nbformat": 4,
  "cells": [
    {
      "cell_type": "code",
      "source": "def number_to_english(n:int):\n    ones=[\"zero\",\"one\",\"two\",\"three\",\"four\",\"five\",\"six\",\"seven\",\"eight\",\"nine\",\"ten\",\"eleven\",\"twelve\",\"thirteen\",\"fourteen\",\"fifteen\",\"sixteen\",\"seventeen\",\"eighteen\",\"nineteen\"]\n    tens=[None,None,\"twenty\",\"thirty\",\"forty\",\"fifty\",\"sixty\",\"seventy\",\"eighty\",\"ninety\"]\n    if 0<=n<20:\n        return ones[n]\n    elif 20<=n<100: \n        return tens[n // 10]+(\"-\" + ones[n%10] if n%10 !=0 else \"\")\n    elif 100<=n<1000:\n        if n%100 == 0:\n            return ones[n // 100]+ \"hundred\"\n        else:\n            return ones[n // 100]+\"hundred and\" + number_to_english(n%100)\n        \n    elif n==1000:\n        return \"one thousand\"\n    else:\n        raise ValueError(\"unexpected input\")\ndef solve():\n    total_letters=0\n    for i in range(1, 1001):\n        words=number_to_english(i)\n        clean_words=words.replace(\" \",\"\").replace(\"-\",\"\")\n        total_letters += len(clean_words)\n    return total_letters    \nprint(solve())",
      "metadata": {
        "trusted": true
      },
      "outputs": [
        {
          "name": "stdout",
          "text": "21124\n",
          "output_type": "stream"
        }
      ],
      "execution_count": 22
    },
    {
      "cell_type": "code",
      "source": "",
      "metadata": {
        "trusted": true
      },
      "outputs": [],
      "execution_count": null
    }
  ]
}