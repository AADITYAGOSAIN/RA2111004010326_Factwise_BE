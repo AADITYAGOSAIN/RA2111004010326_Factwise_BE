{
 "cells": [
  {
   "cell_type": "code",
   "execution_count": null,
   "id": "f3f079e0",
   "metadata": {},
   "outputs": [],
   "source": [
    "def maxScore(cardPoints, k):\n",
    "    n = len(cardPoints)\n",
    "    total_points = sum(cardPoints)\n",
    "    window_size = n - k\n",
    "    min_window_points = float('inf')\n",
    "    current_window_points = sum(cardPoints[:window_size])\n",
    "    min_window_points = min(min_window_points, current_window_points)\n",
    "    \n",
    "    for i in range(window_size, n):\n",
    "        current_window_points = current_window_points - cardPoints[i - window_size] + cardPoints[i]\n",
    "        min_window_points = min(min_window_points, current_window_points)\n",
    "    \n",
    "    return total_points - min_window_points\n",
    "\n",
    "def main():\n",
    "    cardPoints = list(map(int, input().split()))\n",
    "    k = int(input())\n",
    "    print( maxScore(cardPoints, k))\n",
    "\n",
    "if __name__ == \"__main__\":\n",
    "    main()"
   ]
  }
 ],
 "metadata": {
  "kernelspec": {
   "display_name": "Python 3 (ipykernel)",
   "language": "python",
   "name": "python3"
  },
  "language_info": {
   "codemirror_mode": {
    "name": "ipython",
    "version": 3
   },
   "file_extension": ".py",
   "mimetype": "text/x-python",
   "name": "python",
   "nbconvert_exporter": "python",
   "pygments_lexer": "ipython3",
   "version": "3.9.13"
  }
 },
 "nbformat": 4,
 "nbformat_minor": 5
}
