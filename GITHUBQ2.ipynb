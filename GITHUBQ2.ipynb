{
 "cells": [
  {
   "cell_type": "code",
   "execution_count": 3,
   "id": "c960c38f",
   "metadata": {},
   "outputs": [
    {
     "name": "stdout",
     "output_type": "stream",
     "text": [
      "21124\n"
     ]
    }
   ],
   "source": [
    "def number_to_english(n: int):\n",
    "    \"\"\" Translate an integer into words form\n",
    "\n",
    "    :param n: the integer to translate\n",
    "    :return: the English phrasing of :math:n\n",
    "    \"\"\"\n",
    "    ones = [\"zero\", \"one\", \"two\", \"three\", \"four\", \"five\", \"six\", \"seven\", \"eight\", \"nine\", \"ten\",\n",
    "            \"eleven\", \"twelve\", \"thirteen\", \"fourteen\", \"fifteen\", \"sixteen\", \"seventeen\", \"eighteen\", \"nineteen\"]\n",
    "    tens = [None, None, \"twenty\", \"thirty\", \"forty\", \"fifty\", \"sixty\", \"seventy\", \"eighty\", \"ninety\"]\n",
    "    \n",
    "    if 0 <= n < 20:\n",
    "        return ones[n]\n",
    "    elif 20 <= n < 100:\n",
    "        return tens[n // 10] + (\"-\" + ones[n % 10] if n % 10 != 0 else \"\")\n",
    "    elif 100 <= n < 1000:\n",
    "        if n % 100 == 0:\n",
    "            return ones[n // 100] + \" hundred\"\n",
    "        else:\n",
    "            return ones[n // 100] + \" hundred and \" + number_to_english(n % 100)\n",
    "    elif n == 1000:\n",
    "        return \"one thousand\"\n",
    "    else:\n",
    "        raise ValueError(\"Unexpected input\")\n",
    "\n",
    "def solve():\n",
    "    \"\"\" Calculate the total number of letters used from 1 to 1000 \"\"\"\n",
    "    total_letters = 0\n",
    "    for i in range(1, 1001):\n",
    "        words = number_to_english(i)\n",
    "        clean_words = words.replace(\" \", \"\").replace(\"-\", \"\")\n",
    "        total_letters += len(clean_words)\n",
    "    return total_letters\n",
    "\n",
    "# Calculate the answer\n",
    "print(solve())"
   ]
  },
  {
   "cell_type": "code",
   "execution_count": 6,
   "id": "08c4a308",
   "metadata": {},
   "outputs": [
    {
     "name": "stdout",
     "output_type": "stream",
     "text": [
      "1 2 3 4 5 6 1\n",
      "3\n",
      "-inf\n"
     ]
    }
   ],
   "source": [
    "\n",
    "def maxScore(cardPoints, k):\n",
    "    n = len(cardPoints)\n",
    "    totalSum = 0\n",
    "    minSubarray = float('inf')  # Initialize minSubarray to infinity\n",
    "\n",
    "    # Calculate totalSum and initial minSubarray\n",
    "    for i in range(n):\n",
    "        totalSum += cardPoints[i]\n",
    "        if i < n - k:\n",
    "            minSubarray += cardPoints[i]\n",
    "    \n",
    "    currSum = minSubarray  # Initial value for currSum is minSubarray\n",
    "\n",
    "    # Slide the window of size n-k across cardPoints\n",
    "    for i in range(n - k, n):\n",
    "        currSum += cardPoints[i] - cardPoints[i - (n - k)]\n",
    "        minSubarray = min(minSubarray, currSum)\n",
    "    \n",
    "    return totalSum - minSubarray\n",
    "\n",
    "def maxScore(cardPoints, k):\n",
    "    n = len(cardPoints)\n",
    "    totalSum = 0\n",
    "    minSubarray = float('inf')  # Initialize minSubarray to infinity\n",
    "\n",
    "    # Calculate totalSum and initial minSubarray\n",
    "    for i in range(n):\n",
    "        totalSum += cardPoints[i]\n",
    "        if i < n - k:\n",
    "            minSubarray += cardPoints[i]\n",
    "    \n",
    "    currSum = minSubarray  # Initial value for currSum is minSubarray\n",
    "\n",
    "    # Slide the window of size n-k across cardPoints\n",
    "    for i in range(n - k, n):\n",
    "        currSum += cardPoints[i] - cardPoints[i - (n - k)]\n",
    "        minSubarray = min(minSubarray, currSum)\n",
    "    \n",
    "    return totalSum - minSubarray\n",
    "\n",
    "def main():\n",
    "    cardPoints = list(map(int, input().split()))\n",
    "    k = int(input())\n",
    "    print(maxScore(cardPoints, k))\n",
    "\n",
    "if __name__ == \"__main__\":\n",
    "    main()"
   ]
  },
  {
   "cell_type": "code",
   "execution_count": 8,
   "id": "78281b6b",
   "metadata": {},
   "outputs": [
    {
     "name": "stdout",
     "output_type": "stream",
     "text": [
      "2 2 2\n",
      "2\n",
      "4\n"
     ]
    }
   ],
   "source": [
    "def maxScore(cardPoints, k):\n",
    "    n = len(cardPoints)\n",
    "    total_points = sum(cardPoints)\n",
    "    window_size = n - k\n",
    "    min_window_points = float('inf')\n",
    "    current_window_points = sum(cardPoints[:window_size])\n",
    "    min_window_points = min(min_window_points, current_window_points)\n",
    "    \n",
    "    for i in range(window_size, n):\n",
    "        current_window_points = current_window_points - cardPoints[i - window_size] + cardPoints[i]\n",
    "        min_window_points = min(min_window_points, current_window_points)\n",
    "    \n",
    "    return total_points - min_window_points\n",
    "\n",
    "def main():\n",
    "    cardPoints = list(map(int, input().split()))\n",
    "    k = int(input())\n",
    "    print( maxScore(cardPoints, k))\n",
    "\n",
    "if __name__ == \"__main__\":\n",
    "    main()"
   ]
  }
 ],
 "metadata": {
  "kernelspec": {
   "display_name": "Python 3 (ipykernel)",
   "language": "python",
   "name": "python3"
  },
  "language_info": {
   "codemirror_mode": {
    "name": "ipython",
    "version": 3
   },
   "file_extension": ".py",
   "mimetype": "text/x-python",
   "name": "python",
   "nbconvert_exporter": "python",
   "pygments_lexer": "ipython3",
   "version": "3.9.13"
  }
 },
 "nbformat": 4,
 "nbformat_minor": 5
}
